{
 "cells": [
  {
   "cell_type": "code",
   "execution_count": 1,
   "id": "e9309dae",
   "metadata": {},
   "outputs": [],
   "source": [
    "import os\n",
    "import pickle\n",
    "import numpy as np\n",
    "from tqdm.notebook import tqdm\n",
    "import tensorflow as tf\n",
    "from tensorflow.keras.applications.vgg16 import VGG16, preprocess_input\n",
    "from tensorflow.keras.preprocessing.image import load_img, img_to_array\n",
    "from tensorflow.keras.preprocessing.text import Tokenizer\n",
    "from tensorflow.keras.preprocessing.sequence import pad_sequences\n",
    "from tensorflow.keras.models import Model\n",
    "from tensorflow.keras.utils import to_categorical, plot_model\n",
    "from tensorflow.keras.layers import Input,Dense,LSTM,Embedding,Dropout,add"
   ]
  },
  {
   "cell_type": "code",
   "execution_count": 2,
   "id": "0c8c01c5-255f-435e-9d17-0218c0244177",
   "metadata": {},
   "outputs": [],
   "source": [
    "BASE_DIR='./'\n",
    "WORKING_DIR='./'"
   ]
  },
  {
   "cell_type": "code",
   "execution_count": 3,
   "id": "7891c3d4",
   "metadata": {},
   "outputs": [
    {
     "name": "stdout",
     "output_type": "stream",
     "text": [
      "[PhysicalDevice(name='/physical_device:CPU:0', device_type='CPU')]\n"
     ]
    }
   ],
   "source": [
    "gpus = tf.config.list_physical_devices(\"GPU\")\n",
    "print(tf.config.list_physical_devices())"
   ]
  },
  {
   "cell_type": "markdown",
   "id": "e6d0d9b2-f32c-482e-9511-a4511c20695c",
   "metadata": {},
   "source": [
    "Extract Image Features"
   ]
  },
  {
   "cell_type": "code",
   "execution_count": 4,
   "id": "a6c482ae-640d-4cea-a337-6a6de5099d85",
   "metadata": {},
   "outputs": [],
   "source": [
    "model=VGG16()\n"
   ]
  },
  {
   "cell_type": "code",
   "execution_count": 5,
   "id": "3f624125-1fce-4324-b29c-38fe07b88928",
   "metadata": {},
   "outputs": [],
   "source": [
    "model=Model(inputs=model.inputs,outputs=model.layers[-2].output)"
   ]
  },
  {
   "cell_type": "code",
   "execution_count": 6,
   "id": "cddbe275-c994-49d4-92a2-e6b1ae5d0c6a",
   "metadata": {},
   "outputs": [
    {
     "name": "stdout",
     "output_type": "stream",
     "text": [
      "Model: \"model\"\n",
      "_________________________________________________________________\n",
      " Layer (type)                Output Shape              Param #   \n",
      "=================================================================\n",
      " input_1 (InputLayer)        [(None, 224, 224, 3)]     0         \n",
      "                                                                 \n",
      " block1_conv1 (Conv2D)       (None, 224, 224, 64)      1792      \n",
      "                                                                 \n",
      " block1_conv2 (Conv2D)       (None, 224, 224, 64)      36928     \n",
      "                                                                 \n",
      " block1_pool (MaxPooling2D)  (None, 112, 112, 64)      0         \n",
      "                                                                 \n",
      " block2_conv1 (Conv2D)       (None, 112, 112, 128)     73856     \n",
      "                                                                 \n",
      " block2_conv2 (Conv2D)       (None, 112, 112, 128)     147584    \n",
      "                                                                 \n",
      " block2_pool (MaxPooling2D)  (None, 56, 56, 128)       0         \n",
      "                                                                 \n",
      " block3_conv1 (Conv2D)       (None, 56, 56, 256)       295168    \n",
      "                                                                 \n",
      " block3_conv2 (Conv2D)       (None, 56, 56, 256)       590080    \n",
      "                                                                 \n",
      " block3_conv3 (Conv2D)       (None, 56, 56, 256)       590080    \n",
      "                                                                 \n",
      " block3_pool (MaxPooling2D)  (None, 28, 28, 256)       0         \n",
      "                                                                 \n",
      " block4_conv1 (Conv2D)       (None, 28, 28, 512)       1180160   \n",
      "                                                                 \n",
      " block4_conv2 (Conv2D)       (None, 28, 28, 512)       2359808   \n",
      "                                                                 \n",
      " block4_conv3 (Conv2D)       (None, 28, 28, 512)       2359808   \n",
      "                                                                 \n",
      " block4_pool (MaxPooling2D)  (None, 14, 14, 512)       0         \n",
      "                                                                 \n",
      " block5_conv1 (Conv2D)       (None, 14, 14, 512)       2359808   \n",
      "                                                                 \n",
      " block5_conv2 (Conv2D)       (None, 14, 14, 512)       2359808   \n",
      "                                                                 \n",
      " block5_conv3 (Conv2D)       (None, 14, 14, 512)       2359808   \n",
      "                                                                 \n",
      " block5_pool (MaxPooling2D)  (None, 7, 7, 512)         0         \n",
      "                                                                 \n",
      " flatten (Flatten)           (None, 25088)             0         \n",
      "                                                                 \n",
      " fc1 (Dense)                 (None, 4096)              102764544 \n",
      "                                                                 \n",
      " fc2 (Dense)                 (None, 4096)              16781312  \n",
      "                                                                 \n",
      "=================================================================\n",
      "Total params: 134260544 (512.16 MB)\n",
      "Trainable params: 134260544 (512.16 MB)\n",
      "Non-trainable params: 0 (0.00 Byte)\n",
      "_________________________________________________________________\n",
      "None\n"
     ]
    }
   ],
   "source": [
    "print(model.summary())"
   ]
  },
  {
   "cell_type": "code",
   "execution_count": 8,
   "id": "60663dbf-f88e-41a7-a8da-53ca511d64f6",
   "metadata": {},
   "outputs": [
    {
     "data": {
      "application/vnd.jupyter.widget-view+json": {
       "model_id": "ae49c1847c904762b86940ec3dc1bba4",
       "version_major": 2,
       "version_minor": 0
      },
      "text/plain": [
       "  0%|          | 0/8092 [00:00<?, ?it/s]"
      ]
     },
     "metadata": {},
     "output_type": "display_data"
    }
   ],
   "source": [
    "features={}\n",
    "directory=os.path.join(BASE_DIR,'Images')\n",
    "for img_name in tqdm(os.listdir(directory)):\n",
    "    img_path=directory+ '/'+img_name\n",
    "    image=load_img(img_path,target_size=(224,224))\n",
    "    # convert to array\n",
    "    image=img_to_array(image)\n",
    "    # reshape data\n",
    "    image=image.reshape((1,image.shape[0],image.shape[1],image.shape[2]))\n",
    "    # preprocess for VGG model\n",
    "    image=preprocess_input(image)\n",
    "    # extract features\n",
    "    feature=model.predict(image,verbose=0)\n",
    "    # img ID\n",
    "    img_id= img_name.split('.')[0]\n",
    "    features[img_id]=feature"
   ]
  },
  {
   "cell_type": "code",
   "execution_count": 9,
   "id": "f85b2031-41e9-4efd-81b2-f80b539c4cdd",
   "metadata": {},
   "outputs": [],
   "source": [
    "pickle.dump(features,open(os.path.join(WORKING_DIR,'features.pkl'),'wb'))"
   ]
  },
  {
   "cell_type": "code",
   "execution_count": 10,
   "id": "434a7bb2-348d-4df2-acf2-d9f6b95a0dea",
   "metadata": {},
   "outputs": [],
   "source": [
    "with open(os.path.join(WORKING_DIR,'features.pkl'),'rb') as f:\n",
    "    features=pickle.load(f)"
   ]
  },
  {
   "cell_type": "code",
   "execution_count": 11,
   "id": "0a9e0792-e054-42a7-b1ff-cb474b3bfd36",
   "metadata": {},
   "outputs": [],
   "source": [
    "with open(os.path.join(BASE_DIR,'captions.txt'),'r') as f:\n",
    "    # to skip first line\n",
    "    next(f)\n",
    "    captions_doc=f.read()"
   ]
  },
  {
   "cell_type": "code",
   "execution_count": 12,
   "id": "e0402b09-65f1-4a31-95ba-97c59049ffc6",
   "metadata": {},
   "outputs": [
    {
     "data": {
      "application/vnd.jupyter.widget-view+json": {
       "model_id": "69180809a6774fec9dda25f49b96f3e4",
       "version_major": 2,
       "version_minor": 0
      },
      "text/plain": [
       "  0%|          | 0/40456 [00:00<?, ?it/s]"
      ]
     },
     "metadata": {},
     "output_type": "display_data"
    }
   ],
   "source": [
    "# map img to caption\n",
    "mapping={}\n",
    "for line in tqdm(captions_doc.split('\\n')):\n",
    "    tokens= line.split(',')\n",
    "    if len(line)<2:\n",
    "        continue\n",
    "    img_id,caption=tokens[0],tokens[1:]\n",
    "    img_id=img_id.split('.')[0]\n",
    "    # convert list to string\n",
    "    caption=\" \".join(caption)\n",
    "    # create list if needed\n",
    "    if img_id not in mapping:\n",
    "        mapping[img_id]=[]\n",
    "    mapping[img_id].append(caption)"
   ]
  },
  {
   "cell_type": "markdown",
   "id": "283b60ee-9b46-42bd-842d-0ef5a63b6531",
   "metadata": {},
   "source": [
    "PREPROCESS DATA\n"
   ]
  },
  {
   "cell_type": "code",
   "execution_count": 13,
   "id": "2b7ab70c-cfb0-4c2a-ae59-d783eeffc86f",
   "metadata": {},
   "outputs": [],
   "source": [
    "def clean(mapping):\n",
    "    for key,captions in mapping.items():\n",
    "        for i in range(len(captions)):\n",
    "            # one caption at a time\n",
    "            caption=captions[i]\n",
    "            # preprocessing\n",
    "            # convert to lowercase\n",
    "            caption=caption.lower()\n",
    "            # replace digits, special chars etc\n",
    "            caption=caption.replace('[^A-Za-z]','')\n",
    "            caption=caption.replace('\\s+', ' ')\n",
    "            # for seq-to-seq model add start and end tags\n",
    "            caption='startseq' + \" \".join([word for word in caption.split() if len(word)>1]) + 'endseq'\n",
    "            captions[i]=caption"
   ]
  },
  {
   "cell_type": "code",
   "execution_count": 14,
   "id": "107c1cfa-f62f-4abd-8daf-d12a0b0b86f9",
   "metadata": {},
   "outputs": [],
   "source": [
    "clean(mapping)"
   ]
  },
  {
   "cell_type": "code",
   "execution_count": 15,
   "id": "9c4c3e7b-d0f7-42e9-8777-2221c6d0b5d4",
   "metadata": {},
   "outputs": [],
   "source": [
    "all_captions=[]\n",
    "for key in mapping:\n",
    "    for caption in mapping[key]:\n",
    "        all_captions.append(caption)"
   ]
  },
  {
   "cell_type": "code",
   "execution_count": 16,
   "id": "58d7d126-8e7a-4087-92ae-2d34a880d4ff",
   "metadata": {},
   "outputs": [],
   "source": [
    "# tokenize text\n",
    "tokenizer=Tokenizer()\n",
    "tokenizer.fit_on_texts(all_captions)\n",
    "vocab_size=len(tokenizer.word_index) + 1"
   ]
  },
  {
   "cell_type": "code",
   "execution_count": 18,
   "id": "796c0a08-5eef-4a70-95dd-1df4b529d122",
   "metadata": {},
   "outputs": [
    {
     "data": {
      "text/plain": [
       "33"
      ]
     },
     "execution_count": 18,
     "metadata": {},
     "output_type": "execute_result"
    }
   ],
   "source": [
    "# get max length of caption\n",
    "max_length=max(len(caption.split()) for caption in all_captions)\n",
    "max_length"
   ]
  },
  {
   "cell_type": "code",
   "execution_count": 19,
   "id": "c945b0ed-a035-4b3f-9b21-c29e4165c2fc",
   "metadata": {},
   "outputs": [],
   "source": [
    "with open(os.path.join(WORKING_DIR, 'tokenizer.pkl'), 'wb') as f:\n",
    "    pickle.dump(tokenizer, f)"
   ]
  },
  {
   "cell_type": "markdown",
   "id": "32377259-10ef-4668-b0a4-70f835a849ae",
   "metadata": {},
   "source": [
    "Train_Test_Split"
   ]
  },
  {
   "cell_type": "code",
   "execution_count": 17,
   "id": "1b8a022a-0a7b-481c-8620-f817fdb06509",
   "metadata": {},
   "outputs": [],
   "source": [
    "image_ids = list(mapping.keys())\n",
    "split=int(len(image_ids)*0.90)\n",
    "train=image_ids[:split]\n",
    "test=image_ids[split:]"
   ]
  },
  {
   "cell_type": "code",
   "execution_count": 18,
   "id": "2855623a-d848-46ac-a739-dedfd66c57a4",
   "metadata": {},
   "outputs": [],
   "source": [
    "# create data generator for batch training\n",
    "def data_gen(data_keys,mapping,features,tokenizer,max_length,vocab_size,batch_size):\n",
    "    X1,X2,y=list(),list(),list()\n",
    "    n=0\n",
    "    while 1:\n",
    "        for key in data_keys:\n",
    "            n+=1\n",
    "            captions=mapping[key]\n",
    "            for caption in captions:\n",
    "                # encode\n",
    "                seq=tokenizer.texts_to_sequences([caption])[0]\n",
    "                # split seq into X,y pairs\n",
    "                for i in range(1,len(seq)):\n",
    "                    # split into i/p and o/p\n",
    "                    in_seq,out_seq=seq[:i],seq[i]\n",
    "                    in_seq=pad_sequences([in_seq],maxlen=max_length)[0]\n",
    "                    out_seq=to_categorical([out_seq],num_classes=vocab_size)[0]\n",
    "                    # store sequences\n",
    "                    X1.append(features[key][0])\n",
    "                    X2.append(in_seq)\n",
    "                    y.append(out_seq)\n",
    "            if n==batch_size:\n",
    "                X1,X2,y=np.array(X1),np.array(X2),np.array(y)\n",
    "                yield [X1,X2],y\n",
    "                X1,X2,y=list(),list(),list()\n",
    "                n=0\n",
    "                "
   ]
  },
  {
   "cell_type": "markdown",
   "id": "32dffd4a-0998-4b0b-9784-83072b26748b",
   "metadata": {},
   "source": [
    "MODEL"
   ]
  },
  {
   "cell_type": "code",
   "execution_count": 19,
   "id": "28044390-dec9-4080-97fc-7723dae28691",
   "metadata": {},
   "outputs": [
    {
     "data": {
      "image/png": "[encoded data removed]",
      "text/plain": [
       "<IPython.core.display.Image object>"
      ]
     },
     "execution_count": 19,
     "metadata": {},
     "output_type": "execute_result"
    }
   ],
   "source": [
    "# Encoder Model\n",
    "# img feature layers\n",
    "inputs1=Input(shape=(4096,))\n",
    "fe1=Dropout(0.4)(inputs1)\n",
    "fe2=Dense(256,activation='relu')(fe1)\n",
    "\n",
    "# seq feature layers\n",
    "inputs2=Input(shape=(max_length,))\n",
    "se1=Embedding(vocab_size,256,mask_zero=True)(inputs2)\n",
    "se2=Dropout(0.4)(se1)\n",
    "se3=LSTM(256)(se2)\n",
    "\n",
    "# Decoder Model\n",
    "decoder1=add([fe2,se3])\n",
    "decoder2=Dense(256,activation='relu')(decoder1)\n",
    "outputs=Dense(vocab_size,activation='softmax')(decoder2)\n",
    "\n",
    "model =Model(inputs=[inputs1,inputs2],outputs=outputs)\n",
    "model.compile(loss='categorical_crossentropy',optimizer='adam')\n",
    "\n",
    "# plot\n",
    "plot_model(model,show_shapes=True)"
   ]
  },
  {
   "cell_type": "code",
   "execution_count": 20,
   "id": "cb5a221a-b0cc-403c-af7c-f8405a353b2c",
   "metadata": {},
   "outputs": [
    {
     "name": "stdout",
     "output_type": "stream",
     "text": [
      "113/113 [==============================] - 178s 2s/step - loss: 6.2169\n",
      "113/113 [==============================] - 179s 2s/step - loss: 5.0550\n",
      "113/113 [==============================] - 180s 2s/step - loss: 4.3059\n",
      "113/113 [==============================] - 177s 2s/step - loss: 3.9025\n",
      "113/113 [==============================] - 179s 2s/step - loss: 3.6262\n",
      "113/113 [==============================] - 178s 2s/step - loss: 3.4190\n",
      "113/113 [==============================] - 180s 2s/step - loss: 3.2579\n",
      "113/113 [==============================] - 207s 2s/step - loss: 3.1240\n",
      "113/113 [==============================] - 202s 2s/step - loss: 3.0087\n",
      "113/113 [==============================] - 211s 2s/step - loss: 2.9144\n",
      "113/113 [==============================] - 205s 2s/step - loss: 2.8298\n",
      "113/113 [==============================] - 210s 2s/step - loss: 2.7594\n",
      "113/113 [==============================] - 190s 2s/step - loss: 2.6898\n",
      "113/113 [==============================] - 203s 2s/step - loss: 2.6273\n",
      "113/113 [==============================] - 184s 2s/step - loss: 2.5671\n",
      "113/113 [==============================] - 188s 2s/step - loss: 2.5175\n",
      "113/113 [==============================] - 186s 2s/step - loss: 2.4735\n",
      "113/113 [==============================] - 183s 2s/step - loss: 2.4288\n",
      "113/113 [==============================] - 179s 2s/step - loss: 2.3920\n",
      "113/113 [==============================] - 181s 2s/step - loss: 2.3537\n"
     ]
    }
   ],
   "source": [
    "epochs=20\n",
    "batch_size=64\n",
    "steps=len(train)//batch_size\n",
    "for i in range(epochs):\n",
    "    generator=data_gen(train,mapping,features,tokenizer,max_length,vocab_size,batch_size)\n",
    "    model.fit(generator,epochs=1,steps_per_epoch=steps,verbose=1)"
   ]
  },
  {
   "cell_type": "code",
   "execution_count": 21,
   "id": "3d73dcb0-4704-4a84-9a86-89d8bd154d5d",
   "metadata": {},
   "outputs": [],
   "source": [
    "model.save('image_captioning_model.h5')"
   ]
  },
  {
   "cell_type": "markdown",
   "id": "2e5ee63d-caf8-4dc8-b2bc-1b5e7c140e89",
   "metadata": {},
   "source": [
    "generate captions for img\n"
   ]
  },
  {
   "cell_type": "code",
   "execution_count": null,
   "id": "98c7ed74",
   "metadata": {},
   "outputs": [],
   "source": []
  },
  {
   "cell_type": "code",
   "execution_count": 20,
   "id": "e67073ec-7eee-4673-96f6-4e1bef855d6f",
   "metadata": {},
   "outputs": [],
   "source": [
    "def index_to_word(integer, tokenizer):\n",
    "    for word,index in tokenizer.word_index.items():\n",
    "        if index==integer:\n",
    "            return word\n",
    "    return None"
   ]
  },
  {
   "cell_type": "code",
   "execution_count": 21,
   "id": "931068bd-c84d-40c5-a679-eb5dd212d07e",
   "metadata": {},
   "outputs": [],
   "source": [
    "def predict_caption(model,image,tokenizer,max_length):\n",
    "    in_text='startseq'\n",
    "    # iterate over max leength\n",
    "    for i in range(max_length):\n",
    "        # encode i/p\n",
    "        sequence=tokenizer.texts_to_sequences([in_text])[0]\n",
    "        sequence=pad_sequences([sequence])\n",
    "        yhat=model.predict([image,sequence],verbose=0)\n",
    "        # get index w high probability\n",
    "        yhat=np.argmax(yhat)\n",
    "        # convert index to word\n",
    "        word=index_to_word(yhat,tokenizer)\n",
    "        # stop if word not found\n",
    "        if word is None:\n",
    "            break\n",
    "        # append word as input\n",
    "        in_text+= ' '+word\n",
    "        # stop if we reach end tag\n",
    "        if word=='endseq':\n",
    "            break\n",
    "    return in_text"
   ]
  },
  {
   "cell_type": "code",
   "execution_count": 22,
   "id": "2cdb8450-5345-4985-915a-7b783243cf22",
   "metadata": {},
   "outputs": [
    {
     "ename": "ModuleNotFoundError",
     "evalue": "No module named 'nltk'",
     "output_type": "error",
     "traceback": [
      "\u001b[1;31m---------------------------------------------------------------------------\u001b[0m",
      "\u001b[1;31mModuleNotFoundError\u001b[0m                       Traceback (most recent call last)",
      "Cell \u001b[1;32mIn[22], line 1\u001b[0m\n\u001b[1;32m----> 1\u001b[0m \u001b[38;5;28;01mfrom\u001b[39;00m \u001b[38;5;21;01mnltk\u001b[39;00m\u001b[38;5;21;01m.\u001b[39;00m\u001b[38;5;21;01mtranslate\u001b[39;00m\u001b[38;5;21;01m.\u001b[39;00m\u001b[38;5;21;01mbleu_score\u001b[39;00m \u001b[38;5;28;01mimport\u001b[39;00m corpus_bleu\n\u001b[0;32m      2\u001b[0m actual,predicted\u001b[38;5;241m=\u001b[39m\u001b[38;5;28mlist\u001b[39m(),\u001b[38;5;28mlist\u001b[39m()\n\u001b[0;32m      3\u001b[0m \u001b[38;5;28;01mfor\u001b[39;00m key \u001b[38;5;129;01min\u001b[39;00m tqdm(test):\n",
      "\u001b[1;31mModuleNotFoundError\u001b[0m: No module named 'nltk'"
     ]
    }
   ],
   "source": [
    "from nltk.translate.bleu_score import corpus_bleu\n",
    "actual,predicted=list(),list()\n",
    "for key in tqdm(test):\n",
    "    captions=mapping[key]\n",
    "    # predict caption\n",
    "    y_pred=predict_caption(model,features[key],tokenizer,max_length)\n",
    "    # split into words\n",
    "    y_pred=y_pred.split()\n",
    "    actual_captions=[caption.split() for caption in captions]\n",
    "    # appendddddd\n",
    "    actual.append(actual_captions)\n",
    "    predicted.append(y_pred)\n",
    "\n",
    "print(f\"BLEU-1:{corpus_bleu(actual,predicted,weights=(1.0,0,0,0))}\")\n",
    "print(f\"BLEU-1:{corpus_bleu(actual,predicted,weights=(0.5,0.5,0,0))}\")"
   ]
  },
  {
   "cell_type": "markdown",
   "id": "ec6778cf-b9bc-4c78-a5d4-89fbb529810a",
   "metadata": {},
   "source": [
    "Visualize results"
   ]
  },
  {
   "cell_type": "code",
   "execution_count": 23,
   "id": "a19d1c91-5114-417c-a28a-75d28a427021",
   "metadata": {},
   "outputs": [],
   "source": [
    "from PIL import Image\n",
    "import matplotlib.pyplot as plt\n"
   ]
  },
  {
   "cell_type": "code",
   "execution_count": 24,
   "id": "b268ef22-5dc2-473d-942b-d28d1027c156",
   "metadata": {},
   "outputs": [],
   "source": [
    "# load img\n",
    "def generate_caption(image_name):\n",
    "    image_id=image_name.split('.')[0]\n",
    "    image_path=os.path.join(BASE_DIR,\"Images\",image_name)\n",
    "    image=Image.open(image_path)\n",
    "    captions=mapping[image_id]\n",
    "    print(\"---------Actual------------\")\n",
    "    for caption in captions:\n",
    "        print(caption)\n",
    "    y_pred=predict_caption(model,features[image_id],tokenizer,max_length)\n",
    "    print(\"-------------Predicted---------------\")\n",
    "    print(y_pred)\n",
    "    plt.imshow(image)"
   ]
  },
  {
   "cell_type": "code",
   "execution_count": 31,
   "id": "d3c34d9d",
   "metadata": {},
   "outputs": [],
   "source": [
    "from tensorflow.keras.models import load_model"
   ]
  },
  {
   "cell_type": "code",
   "execution_count": 33,
   "id": "ecea8361",
   "metadata": {},
   "outputs": [],
   "source": [
    "model=load_model('image_captioning_model.h5')"
   ]
  },
  {
   "cell_type": "code",
   "execution_count": 41,
   "id": "0d4f5655-bb01-492c-88fd-147809734706",
   "metadata": {},
   "outputs": [
    {
     "data": {
      "text/plain": [
       "'startseq a boy with red winks her eye and eye endseq'"
      ]
     },
     "execution_count": 41,
     "metadata": {},
     "output_type": "execute_result"
    }
   ],
   "source": [
    "vgg_model = VGG16()\n",
    "# restructure the model\n",
    "vgg_model = Model(inputs=vgg_model.inputs, outputs=vgg_model.layers[-2].output)\n",
    "image_path = './Images/3757598567_739b7da835.jpg'\n",
    "\n",
    "# load image\n",
    "image = load_img(image_path, target_size=(224, 224))\n",
    "# convert image pixels to numpy array\n",
    "image = img_to_array(image)\n",
    "# reshape data for model\n",
    "image = image.reshape((1, image.shape[0], image.shape[1], image.shape[2]))\n",
    "# preprocess image for vgg\n",
    "image = preprocess_input(image)\n",
    "# extract features\n",
    "feature = vgg_model.predict(image, verbose=0)\n",
    "# predict from the trained model\n",
    "predict_caption(model, feature, tokenizer, max_length)\n"
   ]
  }
 ],
 "metadata": {
  "kernelspec": {
   "display_name": "Python 3 (ipykernel)",
   "language": "python",
   "name": "python3"
  },
  "language_info": {
   "codemirror_mode": {
    "name": "ipython",
    "version": 3
   },
   "file_extension": ".py",
   "mimetype": "text/x-python",
   "name": "python",
   "nbconvert_exporter": "python",
   "pygments_lexer": "ipython3",
   "version": "3.11.0"
  }
 },
 "nbformat": 4,
 "nbformat_minor": 5
}
